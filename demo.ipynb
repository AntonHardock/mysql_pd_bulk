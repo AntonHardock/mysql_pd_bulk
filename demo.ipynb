{
 "cells": [
  {
   "cell_type": "markdown",
   "metadata": {},
   "source": [
    "# Bulk insert datafiles from disk to MySQL Server\n",
    "Using:\n",
    "* [mysql.connector](https://dev.mysql.com/doc/connector-python/en/) as driver \n",
    "* pandas for chunkwise reading of datafiles"
   ]
  },
  {
   "cell_type": "markdown",
   "metadata": {},
   "source": [
    "## Setup"
   ]
  },
  {
   "cell_type": "code",
   "execution_count": 1,
   "metadata": {},
   "outputs": [],
   "source": [
    "from bulk_insert import insert_table, insert_multiple_tables"
   ]
  },
  {
   "cell_type": "code",
   "execution_count": 2,
   "metadata": {},
   "outputs": [],
   "source": [
    "import mysql.connector\n",
    "import pandas as pd\n",
    "import os"
   ]
  },
  {
   "cell_type": "code",
   "execution_count": 3,
   "metadata": {},
   "outputs": [],
   "source": [
    "from IPython.core.interactiveshell import InteractiveShell\n",
    "InteractiveShell.ast_node_interactivity = \"all\""
   ]
  },
  {
   "cell_type": "markdown",
   "metadata": {},
   "source": [
    "## create and inspect demo tables\n",
    "larger example with 1 million rows per table"
   ]
  },
  {
   "cell_type": "code",
   "execution_count": 4,
   "metadata": {},
   "outputs": [],
   "source": [
    "script = \"demo_data/generate_demo_data.py\" # script generating 3 demo tables (2 csv, 1 json)\n",
    "data_path = os.getcwd() + \"/demo_data/\" # path to store demo tables\n",
    "n = int(1e6) # number of rows for each demo table"
   ]
  },
  {
   "cell_type": "code",
   "execution_count": 5,
   "metadata": {},
   "outputs": [],
   "source": [
    "%run $script {data_path} {n}"
   ]
  },
  {
   "cell_type": "code",
   "execution_count": 6,
   "metadata": {},
   "outputs": [
    {
     "data": {
      "text/html": [
       "<div>\n",
       "<style scoped>\n",
       "    .dataframe tbody tr th:only-of-type {\n",
       "        vertical-align: middle;\n",
       "    }\n",
       "\n",
       "    .dataframe tbody tr th {\n",
       "        vertical-align: top;\n",
       "    }\n",
       "\n",
       "    .dataframe thead th {\n",
       "        text-align: right;\n",
       "    }\n",
       "</style>\n",
       "<table border=\"1\" class=\"dataframe\">\n",
       "  <thead>\n",
       "    <tr style=\"text-align: right;\">\n",
       "      <th></th>\n",
       "      <th>user_id</th>\n",
       "      <th>username</th>\n",
       "    </tr>\n",
       "  </thead>\n",
       "  <tbody>\n",
       "    <tr>\n",
       "      <th>0</th>\n",
       "      <td>1</td>\n",
       "      <td>yFnzHFPDkudEiyDq</td>\n",
       "    </tr>\n",
       "    <tr>\n",
       "      <th>1</th>\n",
       "      <td>2</td>\n",
       "      <td>FJNCkWZFXOpWDb</td>\n",
       "    </tr>\n",
       "    <tr>\n",
       "      <th>2</th>\n",
       "      <td>3</td>\n",
       "      <td>lWjADglkMatACqslNDxq</td>\n",
       "    </tr>\n",
       "  </tbody>\n",
       "</table>\n",
       "</div>"
      ],
      "text/plain": [
       "   user_id              username\n",
       "0        1      yFnzHFPDkudEiyDq\n",
       "1        2        FJNCkWZFXOpWDb\n",
       "2        3  lWjADglkMatACqslNDxq"
      ]
     },
     "execution_count": 6,
     "metadata": {},
     "output_type": "execute_result"
    },
    {
     "data": {
      "text/html": [
       "<div>\n",
       "<style scoped>\n",
       "    .dataframe tbody tr th:only-of-type {\n",
       "        vertical-align: middle;\n",
       "    }\n",
       "\n",
       "    .dataframe tbody tr th {\n",
       "        vertical-align: top;\n",
       "    }\n",
       "\n",
       "    .dataframe thead th {\n",
       "        text-align: right;\n",
       "    }\n",
       "</style>\n",
       "<table border=\"1\" class=\"dataframe\">\n",
       "  <thead>\n",
       "    <tr style=\"text-align: right;\">\n",
       "      <th></th>\n",
       "      <th>product_id</th>\n",
       "      <th>category</th>\n",
       "      <th>price</th>\n",
       "      <th>weight</th>\n",
       "    </tr>\n",
       "  </thead>\n",
       "  <tbody>\n",
       "    <tr>\n",
       "      <th>0</th>\n",
       "      <td>1</td>\n",
       "      <td>H</td>\n",
       "      <td>135.191586</td>\n",
       "      <td>6.788010</td>\n",
       "    </tr>\n",
       "    <tr>\n",
       "      <th>1</th>\n",
       "      <td>2</td>\n",
       "      <td>P</td>\n",
       "      <td>124.647725</td>\n",
       "      <td>1.468372</td>\n",
       "    </tr>\n",
       "    <tr>\n",
       "      <th>2</th>\n",
       "      <td>3</td>\n",
       "      <td>W</td>\n",
       "      <td>133.377321</td>\n",
       "      <td>5.147944</td>\n",
       "    </tr>\n",
       "  </tbody>\n",
       "</table>\n",
       "</div>"
      ],
      "text/plain": [
       "   product_id category       price    weight\n",
       "0           1        H  135.191586  6.788010\n",
       "1           2        P  124.647725  1.468372\n",
       "2           3        W  133.377321  5.147944"
      ]
     },
     "execution_count": 6,
     "metadata": {},
     "output_type": "execute_result"
    },
    {
     "data": {
      "text/html": [
       "<div>\n",
       "<style scoped>\n",
       "    .dataframe tbody tr th:only-of-type {\n",
       "        vertical-align: middle;\n",
       "    }\n",
       "\n",
       "    .dataframe tbody tr th {\n",
       "        vertical-align: top;\n",
       "    }\n",
       "\n",
       "    .dataframe thead th {\n",
       "        text-align: right;\n",
       "    }\n",
       "</style>\n",
       "<table border=\"1\" class=\"dataframe\">\n",
       "  <thead>\n",
       "    <tr style=\"text-align: right;\">\n",
       "      <th></th>\n",
       "      <th>review_id</th>\n",
       "      <th>user_id</th>\n",
       "      <th>product_id</th>\n",
       "      <th>review_text</th>\n",
       "    </tr>\n",
       "  </thead>\n",
       "  <tbody>\n",
       "    <tr>\n",
       "      <th>0</th>\n",
       "      <td>1</td>\n",
       "      <td>334723</td>\n",
       "      <td>908214</td>\n",
       "      <td>text text text text text text text text text t...</td>\n",
       "    </tr>\n",
       "    <tr>\n",
       "      <th>1</th>\n",
       "      <td>2</td>\n",
       "      <td>995158</td>\n",
       "      <td>481647</td>\n",
       "      <td>text text text text text text text text text t...</td>\n",
       "    </tr>\n",
       "    <tr>\n",
       "      <th>2</th>\n",
       "      <td>3</td>\n",
       "      <td>581728</td>\n",
       "      <td>91421</td>\n",
       "      <td>text text text text text text text text text t...</td>\n",
       "    </tr>\n",
       "  </tbody>\n",
       "</table>\n",
       "</div>"
      ],
      "text/plain": [
       "   review_id  user_id  product_id  \\\n",
       "0          1   334723      908214   \n",
       "1          2   995158      481647   \n",
       "2          3   581728       91421   \n",
       "\n",
       "                                         review_text  \n",
       "0  text text text text text text text text text t...  \n",
       "1  text text text text text text text text text t...  \n",
       "2  text text text text text text text text text t...  "
      ]
     },
     "execution_count": 6,
     "metadata": {},
     "output_type": "execute_result"
    }
   ],
   "source": [
    "for table_name in [\"users.csv\", \"products.csv\", \"reviews.json\"]:\n",
    "    if table_name.endswith(\".csv\"): \n",
    "        reader = pd.read_csv(data_path + table_name, sep=\",\", chunksize=200)\n",
    "    else: \n",
    "        reader = pd.read_json(data_path + table_name, lines=True, chunksize=200)\n",
    "    top_chunk = next(reader)\n",
    "    top_chunk.head(3)"
   ]
  },
  {
   "cell_type": "markdown",
   "metadata": {},
   "source": [
    "## connect to mysql server and create demo database"
   ]
  },
  {
   "cell_type": "code",
   "execution_count": 7,
   "metadata": {},
   "outputs": [],
   "source": [
    "db_credentials = {\n",
    "\"user\" : \"root\",\n",
    "\"password\" : \"############\",\n",
    "\"host\": \"localhost\"\n",
    "}\n",
    "\n",
    "db = mysql.connector.connect(**db_credentials)\n",
    "cursor = db.cursor()"
   ]
  },
  {
   "cell_type": "code",
   "execution_count": 8,
   "metadata": {},
   "outputs": [],
   "source": [
    "cursor.execute(\"CREATE DATABASE demo\")\n",
    "cursor.execute(\"USE demo\")"
   ]
  },
  {
   "cell_type": "code",
   "execution_count": 9,
   "metadata": {},
   "outputs": [],
   "source": [
    "## helper function: execute sql code and fetch results in one step:\n",
    "def exefetch(sql_code):\n",
    "    cursor.execute(sql_code)\n",
    "    return cursor.fetchall()"
   ]
  },
  {
   "cell_type": "markdown",
   "metadata": {},
   "source": [
    "## for each table: select columns, datatypes and foreign keys"
   ]
  },
  {
   "cell_type": "markdown",
   "metadata": {},
   "source": [
    "* create one dictionary per table with the most important table specifications (key = column name, value = datatype)\n",
    "* column constraints like NOT NULL or PRIMARY KEY can be specified next to the datatype\n",
    "* only specified columns will be inserted, remaining columns are ignored"
   ]
  },
  {
   "cell_type": "code",
   "execution_count": 10,
   "metadata": {},
   "outputs": [],
   "source": [
    "users = {\n",
    "    \"user_id\": \"INT PRIMARY KEY\",\n",
    "    \"username\": \"VARCHAR(20)\"\n",
    "}"
   ]
  },
  {
   "cell_type": "markdown",
   "metadata": {},
   "source": [
    "* if multiple columns share the same datatype, you can combine their keys into one tuple<br>(like \"price\" and \"weight\" in below example)"
   ]
  },
  {
   "cell_type": "code",
   "execution_count": 11,
   "metadata": {},
   "outputs": [],
   "source": [
    "products = {\n",
    "    \"product_id\": \"INT PRIMARY KEY\",\n",
    "    \"category\": \"CHAR(1)\",\n",
    "    (\"price\", \"weight\"): \"FLOAT\"\n",
    "}"
   ]
  },
  {
   "cell_type": "markdown",
   "metadata": {},
   "source": [
    "* multiple foreign key constraints can be specified through nested dictionaries\n",
    "    * the first foreign key \"fk1\" in the example below is fully specified\n",
    "    * the second foreign key \"fk2\" showcases the minimal required specifications\n",
    "* keys to the nested dicts (\"fk1\", \"fk2\") can be named freely, <br>\n",
    "while the keys inside of the nested dicts must follow below naming conventions"
   ]
  },
  {
   "cell_type": "code",
   "execution_count": 12,
   "metadata": {},
   "outputs": [],
   "source": [
    "reviews = {\n",
    "    \"review_id\": \"INT PRIMARY KEY\",\n",
    "    \"user_id\": \"INT\",\n",
    "    \"product_id\": \"INT\",\n",
    "    \"review_text\": \"TEXT\",\n",
    "    \"fk1\": {\n",
    "        \"name\": \"fk_user_id\", #name of the table constraint --> OPTIONAL\n",
    "        \"col\": \"user_id\", #column serving as foreign key\n",
    "        \"ref\": \"users(user_id)\", #parent table and reference column\n",
    "        \"upd\": \"RESTRICT\", #behaviour on update --> OPTIONAL\n",
    "        \"del\": \"RESTRICT\" #behaviour on delete --> OPTIONAL\n",
    "    },\n",
    "    \"fk2\": {\n",
    "        \"col\": \"product_id\",\n",
    "        \"ref\": \"products(product_id)\",\n",
    "    } \n",
    "}"
   ]
  },
  {
   "cell_type": "markdown",
   "metadata": {},
   "source": [
    "## insert a single table: users"
   ]
  },
  {
   "cell_type": "code",
   "execution_count": 13,
   "metadata": {},
   "outputs": [
    {
     "name": "stderr",
     "output_type": "stream",
     "text": [
      "5000it [01:20, 62.50it/s]\n"
     ]
    }
   ],
   "source": [
    "## users\n",
    "reader = pd.read_csv(\"demo_data/users.csv\", sep=\",\", chunksize = 200)\n",
    "insert_table(cursor, reader, \"users\", users)"
   ]
  },
  {
   "cell_type": "markdown",
   "metadata": {},
   "source": [
    "## insert the remaining two tables (or n tables) in one go\n",
    "* the order only matters when foreign keys are involved <br>(all referenced parent tables have to be inserted first)\n",
    "* foreign keys are added after table creation + insertion! <br>(make sure the referenced columns are indexed, usually \n",
    "as Primary Keys of their parent table)\n",
    "* fast_fk_check = True uses a customized integrity check (Default is False)\n",
    "    * Useful for VERY large tables like in this example, as regular FK checking may take a few hours\n",
    "    * HOWEVER, a few conditions have to be met (else, assertion errors are raised)\n",
    "    * Further explanations can be found in the docstring of \"insert_table\""
   ]
  },
  {
   "cell_type": "code",
   "execution_count": 14,
   "metadata": {},
   "outputs": [
    {
     "name": "stderr",
     "output_type": "stream",
     "text": [
      "5000it [01:58, 42.28it/s]\n"
     ]
    },
    {
     "name": "stdout",
     "output_type": "stream",
     "text": [
      "No foreign key definitions to check\n"
     ]
    },
    {
     "name": "stderr",
     "output_type": "stream",
     "text": [
      "5000it [02:39, 31.40it/s]\n"
     ]
    },
    {
     "name": "stdout",
     "output_type": "stream",
     "text": [
      "Fast integrity check of FK user_id in table reviews...\n",
      "Fast integrity check of FK product_id in table reviews...\n",
      "FK integrity check completed\n",
      "adding foreign keys...\n",
      "Add foreign key at: 18:45:39\n",
      "Foreign key added at: 18:45:51\n",
      "Add foreign key at: 18:45:51\n",
      "Foreign key added at: 18:46:02\n",
      "Foreign key constraints are now in place\n"
     ]
    }
   ],
   "source": [
    "## define an adequate reader function for each filetype\n",
    "def reader_csv(fpath): return pd.read_csv(fpath, sep=\",\", chunksize=200)\n",
    "def reader_json(fpath): return pd.read_json(fpath, lines=True, chunksize=200)\n",
    "\n",
    "## define insert_instructions for iteration\n",
    "insert_instructions = {\n",
    "        \"products\": (data_path + \"products.csv\", reader_csv, products),\n",
    "        \"reviews\": (data_path + \"reviews.json\", reader_json, reviews)\n",
    "    }\n",
    "\n",
    "## carry out insert of multiple tables\n",
    "insert_multiple_tables(cursor, insert_instructions, fast_fk_check=True)"
   ]
  },
  {
   "cell_type": "markdown",
   "metadata": {},
   "source": [
    "## check if all columns have been specified as desired"
   ]
  },
  {
   "cell_type": "code",
   "execution_count": 15,
   "metadata": {},
   "outputs": [
    {
     "name": "stdout",
     "output_type": "stream",
     "text": [
      "('user_id', 'int', 'NO', 'PRI', None, '')\n",
      "('username', 'varchar(20)', 'YES', '', None, '')\n",
      "\n",
      "('product_id', 'int', 'NO', 'PRI', None, '')\n",
      "('category', 'char(1)', 'YES', '', None, '')\n",
      "('price', 'float', 'YES', '', None, '')\n",
      "('weight', 'float', 'YES', '', None, '')\n",
      "\n",
      "('review_id', 'int', 'NO', 'PRI', None, '')\n",
      "('user_id', 'int', 'YES', 'MUL', None, '')\n",
      "('product_id', 'int', 'YES', 'MUL', None, '')\n",
      "('review_text', 'text', 'YES', '', None, '')\n",
      "\n"
     ]
    }
   ],
   "source": [
    "## Info on tables\n",
    "sql_statements = [\n",
    "    \"DESC users\",\n",
    "    \"DESC products\",\n",
    "    \"DESC reviews\"\n",
    "]\n",
    "\n",
    "for statement in sql_statements:\n",
    "    result = exefetch(statement)\n",
    "    for i in result: print(i)\n",
    "    print()"
   ]
  },
  {
   "cell_type": "markdown",
   "metadata": {},
   "source": [
    "## check if foreign keys have been specified as desired"
   ]
  },
  {
   "cell_type": "code",
   "execution_count": 16,
   "metadata": {},
   "outputs": [],
   "source": [
    "fk_test = \"\"\"SELECT\n",
    "                TABLE_NAME, COLUMN_NAME, CONSTRAINT_NAME, REFERENCED_TABLE_NAME, REFERENCED_COLUMN_NAME\n",
    "            FROM\n",
    "                INFORMATION_SCHEMA.KEY_COLUMN_USAGE\n",
    "            WHERE\n",
    "                REFERENCED_TABLE_SCHEMA = \"{0}\" AND\n",
    "                REFERENCED_TABLE_NAME = \"{1}\";\"\"\""
   ]
  },
  {
   "cell_type": "code",
   "execution_count": 17,
   "metadata": {},
   "outputs": [
    {
     "data": {
      "text/plain": [
       "('reviews', 'user_id', 'fk_user_id', 'users', 'user_id')"
      ]
     },
     "execution_count": 17,
     "metadata": {},
     "output_type": "execute_result"
    },
    {
     "data": {
      "text/plain": [
       "('reviews', 'product_id', 'reviews_ibfk_1', 'products', 'product_id')"
      ]
     },
     "execution_count": 17,
     "metadata": {},
     "output_type": "execute_result"
    }
   ],
   "source": [
    "exefetch(fk_test.format(\"demo\", \"users\"))[0]\n",
    "\n",
    "exefetch(fk_test.format(\"demo\", \"products\"))[0] #no constraint name was specified, hence a default name appears"
   ]
  },
  {
   "cell_type": "markdown",
   "metadata": {},
   "source": [
    "## select and view example data"
   ]
  },
  {
   "cell_type": "code",
   "execution_count": 18,
   "metadata": {},
   "outputs": [
    {
     "data": {
      "text/html": [
       "<div>\n",
       "<style scoped>\n",
       "    .dataframe tbody tr th:only-of-type {\n",
       "        vertical-align: middle;\n",
       "    }\n",
       "\n",
       "    .dataframe tbody tr th {\n",
       "        vertical-align: top;\n",
       "    }\n",
       "\n",
       "    .dataframe thead th {\n",
       "        text-align: right;\n",
       "    }\n",
       "</style>\n",
       "<table border=\"1\" class=\"dataframe\">\n",
       "  <thead>\n",
       "    <tr style=\"text-align: right;\">\n",
       "      <th></th>\n",
       "      <th>review_id</th>\n",
       "      <th>user_id</th>\n",
       "      <th>product_id</th>\n",
       "      <th>review_text</th>\n",
       "    </tr>\n",
       "  </thead>\n",
       "  <tbody>\n",
       "    <tr>\n",
       "      <th>0</th>\n",
       "      <td>1</td>\n",
       "      <td>334723</td>\n",
       "      <td>908214</td>\n",
       "      <td>text text text text text text text text text t...</td>\n",
       "    </tr>\n",
       "    <tr>\n",
       "      <th>1</th>\n",
       "      <td>2</td>\n",
       "      <td>995158</td>\n",
       "      <td>481647</td>\n",
       "      <td>text text text text text text text text text t...</td>\n",
       "    </tr>\n",
       "    <tr>\n",
       "      <th>2</th>\n",
       "      <td>3</td>\n",
       "      <td>581728</td>\n",
       "      <td>91421</td>\n",
       "      <td>text text text text text text text text text t...</td>\n",
       "    </tr>\n",
       "    <tr>\n",
       "      <th>3</th>\n",
       "      <td>4</td>\n",
       "      <td>449306</td>\n",
       "      <td>331771</td>\n",
       "      <td>text text text text text text text text text t...</td>\n",
       "    </tr>\n",
       "    <tr>\n",
       "      <th>4</th>\n",
       "      <td>5</td>\n",
       "      <td>726816</td>\n",
       "      <td>264543</td>\n",
       "      <td>text text text text text text text text text t...</td>\n",
       "    </tr>\n",
       "    <tr>\n",
       "      <th>...</th>\n",
       "      <td>...</td>\n",
       "      <td>...</td>\n",
       "      <td>...</td>\n",
       "      <td>...</td>\n",
       "    </tr>\n",
       "    <tr>\n",
       "      <th>995</th>\n",
       "      <td>996</td>\n",
       "      <td>656380</td>\n",
       "      <td>662989</td>\n",
       "      <td>text text text text text text text text text t...</td>\n",
       "    </tr>\n",
       "    <tr>\n",
       "      <th>996</th>\n",
       "      <td>997</td>\n",
       "      <td>760015</td>\n",
       "      <td>762662</td>\n",
       "      <td>text text text text text text text text text t...</td>\n",
       "    </tr>\n",
       "    <tr>\n",
       "      <th>997</th>\n",
       "      <td>998</td>\n",
       "      <td>422908</td>\n",
       "      <td>766213</td>\n",
       "      <td>text text text text text text text text text t...</td>\n",
       "    </tr>\n",
       "    <tr>\n",
       "      <th>998</th>\n",
       "      <td>999</td>\n",
       "      <td>260150</td>\n",
       "      <td>439521</td>\n",
       "      <td>text text text text text text text text text t...</td>\n",
       "    </tr>\n",
       "    <tr>\n",
       "      <th>999</th>\n",
       "      <td>1000</td>\n",
       "      <td>686708</td>\n",
       "      <td>868559</td>\n",
       "      <td>text text text text text text text text text t...</td>\n",
       "    </tr>\n",
       "  </tbody>\n",
       "</table>\n",
       "<p>1000 rows × 4 columns</p>\n",
       "</div>"
      ],
      "text/plain": [
       "     review_id  user_id  product_id  \\\n",
       "0            1   334723      908214   \n",
       "1            2   995158      481647   \n",
       "2            3   581728       91421   \n",
       "3            4   449306      331771   \n",
       "4            5   726816      264543   \n",
       "..         ...      ...         ...   \n",
       "995        996   656380      662989   \n",
       "996        997   760015      762662   \n",
       "997        998   422908      766213   \n",
       "998        999   260150      439521   \n",
       "999       1000   686708      868559   \n",
       "\n",
       "                                           review_text  \n",
       "0    text text text text text text text text text t...  \n",
       "1    text text text text text text text text text t...  \n",
       "2    text text text text text text text text text t...  \n",
       "3    text text text text text text text text text t...  \n",
       "4    text text text text text text text text text t...  \n",
       "..                                                 ...  \n",
       "995  text text text text text text text text text t...  \n",
       "996  text text text text text text text text text t...  \n",
       "997  text text text text text text text text text t...  \n",
       "998  text text text text text text text text text t...  \n",
       "999  text text text text text text text text text t...  \n",
       "\n",
       "[1000 rows x 4 columns]"
      ]
     },
     "execution_count": 18,
     "metadata": {},
     "output_type": "execute_result"
    }
   ],
   "source": [
    "table = \"reviews\"\n",
    "colnames = [row[0] for row in exefetch(\"SHOW COLUMNS FROM {}\".format(table))]\n",
    "df = pd.DataFrame(data = exefetch(\"SELECT * FROM {} LIMIT 1000\".format(table)), columns = colnames)\n",
    "df"
   ]
  },
  {
   "cell_type": "markdown",
   "metadata": {},
   "source": [
    "## commit and close connection"
   ]
  },
  {
   "cell_type": "code",
   "execution_count": 19,
   "metadata": {},
   "outputs": [
    {
     "data": {
      "text/plain": [
       "True"
      ]
     },
     "execution_count": 19,
     "metadata": {},
     "output_type": "execute_result"
    }
   ],
   "source": [
    "db.commit()\n",
    "cursor.close()"
   ]
  }
 ],
 "metadata": {
  "kernelspec": {
   "display_name": "Python 3",
   "language": "python",
   "name": "python3"
  },
  "language_info": {
   "codemirror_mode": {
    "name": "ipython",
    "version": 3
   },
   "file_extension": ".py",
   "mimetype": "text/x-python",
   "name": "python",
   "nbconvert_exporter": "python",
   "pygments_lexer": "ipython3",
   "version": "3.7.1"
  }
 },
 "nbformat": 4,
 "nbformat_minor": 4
}
